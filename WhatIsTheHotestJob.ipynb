{
 "cells": [
  {
   "cell_type": "markdown",
   "metadata": {},
   "source": [
    "The CRISP-DM Process (Cross Industry Process for Data Mining)."
   ]
  },
  {
   "cell_type": "markdown",
   "metadata": {},
   "source": [
    "### 1. Business Understanding\n",
    "\n",
    "1. What is the hotest job?"
   ]
  },
  {
   "cell_type": "markdown",
   "metadata": {},
   "source": [
    "### 2. Data Understanding"
   ]
  },
  {
   "cell_type": "code",
   "execution_count": 1,
   "metadata": {},
   "outputs": [],
   "source": [
    "import numpy as np\n",
    "import pandas as pd\n",
    "import matplotlib.pyplot as plt\n",
    "from IPython import display\n",
    "import seaborn as sns\n",
    "%matplotlib inline"
   ]
  },
  {
   "cell_type": "code",
   "execution_count": 2,
   "metadata": {},
   "outputs": [
    {
     "name": "stderr",
     "output_type": "stream",
     "text": [
      "/home/fc/anaconda3/lib/python3.6/site-packages/IPython/core/interactiveshell.py:2728: DtypeWarning: Columns (8,12,13,14,15,16,50,51,52,53,55,56,57,58,59,60,61,62,63,64,65,66,67,68,69,70,71,72,73,74,75,76,77,78,79,80,81,82,83,84,85,93,94,95,96,97,98,99,100,101,102,103,104,105,106,107,108,109,110,111,112,113,114,115,116,117,118,119,120,121,122,123,124,125,126,127,128) have mixed types. Specify dtype option on import or set low_memory=False.\n",
      "  interactivity=interactivity, compiler=compiler, result=result)\n"
     ]
    },
    {
     "data": {
      "text/html": [
       "<div>\n",
       "<style scoped>\n",
       "    .dataframe tbody tr th:only-of-type {\n",
       "        vertical-align: middle;\n",
       "    }\n",
       "\n",
       "    .dataframe tbody tr th {\n",
       "        vertical-align: top;\n",
       "    }\n",
       "\n",
       "    .dataframe thead th {\n",
       "        text-align: right;\n",
       "    }\n",
       "</style>\n",
       "<table border=\"1\" class=\"dataframe\">\n",
       "  <thead>\n",
       "    <tr style=\"text-align: right;\">\n",
       "      <th></th>\n",
       "      <th>Respondent</th>\n",
       "      <th>Hobby</th>\n",
       "      <th>OpenSource</th>\n",
       "      <th>Country</th>\n",
       "      <th>Student</th>\n",
       "      <th>Employment</th>\n",
       "      <th>FormalEducation</th>\n",
       "      <th>UndergradMajor</th>\n",
       "      <th>CompanySize</th>\n",
       "      <th>DevType</th>\n",
       "      <th>...</th>\n",
       "      <th>Exercise</th>\n",
       "      <th>Gender</th>\n",
       "      <th>SexualOrientation</th>\n",
       "      <th>EducationParents</th>\n",
       "      <th>RaceEthnicity</th>\n",
       "      <th>Age</th>\n",
       "      <th>Dependents</th>\n",
       "      <th>MilitaryUS</th>\n",
       "      <th>SurveyTooLong</th>\n",
       "      <th>SurveyEasy</th>\n",
       "    </tr>\n",
       "  </thead>\n",
       "  <tbody>\n",
       "    <tr>\n",
       "      <th>0</th>\n",
       "      <td>1</td>\n",
       "      <td>Yes</td>\n",
       "      <td>No</td>\n",
       "      <td>Kenya</td>\n",
       "      <td>No</td>\n",
       "      <td>Employed part-time</td>\n",
       "      <td>Bachelor’s degree (BA, BS, B.Eng., etc.)</td>\n",
       "      <td>Mathematics or statistics</td>\n",
       "      <td>20 to 99 employees</td>\n",
       "      <td>Full-stack developer</td>\n",
       "      <td>...</td>\n",
       "      <td>3 - 4 times per week</td>\n",
       "      <td>Male</td>\n",
       "      <td>Straight or heterosexual</td>\n",
       "      <td>Bachelor’s degree (BA, BS, B.Eng., etc.)</td>\n",
       "      <td>Black or of African descent</td>\n",
       "      <td>25 - 34 years old</td>\n",
       "      <td>Yes</td>\n",
       "      <td>NaN</td>\n",
       "      <td>The survey was an appropriate length</td>\n",
       "      <td>Very easy</td>\n",
       "    </tr>\n",
       "    <tr>\n",
       "      <th>1</th>\n",
       "      <td>3</td>\n",
       "      <td>Yes</td>\n",
       "      <td>Yes</td>\n",
       "      <td>United Kingdom</td>\n",
       "      <td>No</td>\n",
       "      <td>Employed full-time</td>\n",
       "      <td>Bachelor’s degree (BA, BS, B.Eng., etc.)</td>\n",
       "      <td>A natural science (ex. biology, chemistry, phy...</td>\n",
       "      <td>10,000 or more employees</td>\n",
       "      <td>Database administrator;DevOps specialist;Full-...</td>\n",
       "      <td>...</td>\n",
       "      <td>Daily or almost every day</td>\n",
       "      <td>Male</td>\n",
       "      <td>Straight or heterosexual</td>\n",
       "      <td>Bachelor’s degree (BA, BS, B.Eng., etc.)</td>\n",
       "      <td>White or of European descent</td>\n",
       "      <td>35 - 44 years old</td>\n",
       "      <td>Yes</td>\n",
       "      <td>NaN</td>\n",
       "      <td>The survey was an appropriate length</td>\n",
       "      <td>Somewhat easy</td>\n",
       "    </tr>\n",
       "    <tr>\n",
       "      <th>2</th>\n",
       "      <td>4</td>\n",
       "      <td>Yes</td>\n",
       "      <td>Yes</td>\n",
       "      <td>United States</td>\n",
       "      <td>No</td>\n",
       "      <td>Employed full-time</td>\n",
       "      <td>Associate degree</td>\n",
       "      <td>Computer science, computer engineering, or sof...</td>\n",
       "      <td>20 to 99 employees</td>\n",
       "      <td>Engineering manager;Full-stack developer</td>\n",
       "      <td>...</td>\n",
       "      <td>NaN</td>\n",
       "      <td>NaN</td>\n",
       "      <td>NaN</td>\n",
       "      <td>NaN</td>\n",
       "      <td>NaN</td>\n",
       "      <td>NaN</td>\n",
       "      <td>NaN</td>\n",
       "      <td>NaN</td>\n",
       "      <td>NaN</td>\n",
       "      <td>NaN</td>\n",
       "    </tr>\n",
       "    <tr>\n",
       "      <th>3</th>\n",
       "      <td>5</td>\n",
       "      <td>No</td>\n",
       "      <td>No</td>\n",
       "      <td>United States</td>\n",
       "      <td>No</td>\n",
       "      <td>Employed full-time</td>\n",
       "      <td>Bachelor’s degree (BA, BS, B.Eng., etc.)</td>\n",
       "      <td>Computer science, computer engineering, or sof...</td>\n",
       "      <td>100 to 499 employees</td>\n",
       "      <td>Full-stack developer</td>\n",
       "      <td>...</td>\n",
       "      <td>I don't typically exercise</td>\n",
       "      <td>Male</td>\n",
       "      <td>Straight or heterosexual</td>\n",
       "      <td>Some college/university study without earning ...</td>\n",
       "      <td>White or of European descent</td>\n",
       "      <td>35 - 44 years old</td>\n",
       "      <td>No</td>\n",
       "      <td>No</td>\n",
       "      <td>The survey was an appropriate length</td>\n",
       "      <td>Somewhat easy</td>\n",
       "    </tr>\n",
       "    <tr>\n",
       "      <th>4</th>\n",
       "      <td>7</td>\n",
       "      <td>Yes</td>\n",
       "      <td>No</td>\n",
       "      <td>South Africa</td>\n",
       "      <td>Yes, part-time</td>\n",
       "      <td>Employed full-time</td>\n",
       "      <td>Some college/university study without earning ...</td>\n",
       "      <td>Computer science, computer engineering, or sof...</td>\n",
       "      <td>10,000 or more employees</td>\n",
       "      <td>Data or business analyst;Desktop or enterprise...</td>\n",
       "      <td>...</td>\n",
       "      <td>3 - 4 times per week</td>\n",
       "      <td>Male</td>\n",
       "      <td>Straight or heterosexual</td>\n",
       "      <td>Some college/university study without earning ...</td>\n",
       "      <td>White or of European descent</td>\n",
       "      <td>18 - 24 years old</td>\n",
       "      <td>Yes</td>\n",
       "      <td>NaN</td>\n",
       "      <td>The survey was an appropriate length</td>\n",
       "      <td>Somewhat easy</td>\n",
       "    </tr>\n",
       "  </tbody>\n",
       "</table>\n",
       "<p>5 rows × 129 columns</p>\n",
       "</div>"
      ],
      "text/plain": [
       "   Respondent Hobby OpenSource         Country         Student  \\\n",
       "0           1   Yes         No           Kenya              No   \n",
       "1           3   Yes        Yes  United Kingdom              No   \n",
       "2           4   Yes        Yes   United States              No   \n",
       "3           5    No         No   United States              No   \n",
       "4           7   Yes         No    South Africa  Yes, part-time   \n",
       "\n",
       "           Employment                                    FormalEducation  \\\n",
       "0  Employed part-time           Bachelor’s degree (BA, BS, B.Eng., etc.)   \n",
       "1  Employed full-time           Bachelor’s degree (BA, BS, B.Eng., etc.)   \n",
       "2  Employed full-time                                   Associate degree   \n",
       "3  Employed full-time           Bachelor’s degree (BA, BS, B.Eng., etc.)   \n",
       "4  Employed full-time  Some college/university study without earning ...   \n",
       "\n",
       "                                      UndergradMajor  \\\n",
       "0                          Mathematics or statistics   \n",
       "1  A natural science (ex. biology, chemistry, phy...   \n",
       "2  Computer science, computer engineering, or sof...   \n",
       "3  Computer science, computer engineering, or sof...   \n",
       "4  Computer science, computer engineering, or sof...   \n",
       "\n",
       "                CompanySize  \\\n",
       "0        20 to 99 employees   \n",
       "1  10,000 or more employees   \n",
       "2        20 to 99 employees   \n",
       "3      100 to 499 employees   \n",
       "4  10,000 or more employees   \n",
       "\n",
       "                                             DevType      ...        \\\n",
       "0                               Full-stack developer      ...         \n",
       "1  Database administrator;DevOps specialist;Full-...      ...         \n",
       "2           Engineering manager;Full-stack developer      ...         \n",
       "3                               Full-stack developer      ...         \n",
       "4  Data or business analyst;Desktop or enterprise...      ...         \n",
       "\n",
       "                     Exercise Gender         SexualOrientation  \\\n",
       "0        3 - 4 times per week   Male  Straight or heterosexual   \n",
       "1   Daily or almost every day   Male  Straight or heterosexual   \n",
       "2                         NaN    NaN                       NaN   \n",
       "3  I don't typically exercise   Male  Straight or heterosexual   \n",
       "4        3 - 4 times per week   Male  Straight or heterosexual   \n",
       "\n",
       "                                    EducationParents  \\\n",
       "0           Bachelor’s degree (BA, BS, B.Eng., etc.)   \n",
       "1           Bachelor’s degree (BA, BS, B.Eng., etc.)   \n",
       "2                                                NaN   \n",
       "3  Some college/university study without earning ...   \n",
       "4  Some college/university study without earning ...   \n",
       "\n",
       "                  RaceEthnicity                Age Dependents  MilitaryUS  \\\n",
       "0   Black or of African descent  25 - 34 years old        Yes         NaN   \n",
       "1  White or of European descent  35 - 44 years old        Yes         NaN   \n",
       "2                           NaN                NaN        NaN         NaN   \n",
       "3  White or of European descent  35 - 44 years old         No          No   \n",
       "4  White or of European descent  18 - 24 years old        Yes         NaN   \n",
       "\n",
       "                          SurveyTooLong     SurveyEasy  \n",
       "0  The survey was an appropriate length      Very easy  \n",
       "1  The survey was an appropriate length  Somewhat easy  \n",
       "2                                   NaN            NaN  \n",
       "3  The survey was an appropriate length  Somewhat easy  \n",
       "4  The survey was an appropriate length  Somewhat easy  \n",
       "\n",
       "[5 rows x 129 columns]"
      ]
     },
     "execution_count": 2,
     "metadata": {},
     "output_type": "execute_result"
    }
   ],
   "source": [
    "df = pd.read_csv('./data/developer_survey_2018/survey_results_public.csv')\n",
    "schema = pd.read_csv('./data/developer_survey_2018/survey_results_schema.csv')\n",
    "\n",
    "df.head()"
   ]
  },
  {
   "cell_type": "code",
   "execution_count": 3,
   "metadata": {},
   "outputs": [
    {
     "data": {
      "text/plain": [
       "'Randomized respondent ID number (not in order of survey response time)'"
      ]
     },
     "execution_count": 3,
     "metadata": {},
     "output_type": "execute_result"
    }
   ],
   "source": [
    "def get_description(column_name, schema=schema):\n",
    "    '''\n",
    "    INPUT - schema - pandas dataframe with the schema of the developers survey\n",
    "            column_name - string - the name of the column you would like to know about\n",
    "    OUTPUT - \n",
    "            desc - string - the description of the column\n",
    "    '''\n",
    "    desc = list(schema[schema['Column'] == column_name]['QuestionText'])[0]\n",
    "    return desc\n",
    "\n",
    "#test your code\n",
    "#Check your function against solution - you shouldn't need to change any of the below code\n",
    "get_description(df.columns[0]) # This should return a string of the first column description"
   ]
  },
  {
   "cell_type": "code",
   "execution_count": 4,
   "metadata": {},
   "outputs": [
    {
     "name": "stdout",
     "output_type": "stream",
     "text": [
      "there are 98855 rows in the dataset!\n",
      "there are 129 rows in the dataset!\n"
     ]
    }
   ],
   "source": [
    "num_rows = df.shape[0]\n",
    "num_cols = df.shape[1]\n",
    "\n",
    "print('there are {} rows in the dataset!'.format(num_rows))\n",
    "print('there are {} rows in the dataset!'.format(num_cols))"
   ]
  },
  {
   "cell_type": "code",
   "execution_count": 5,
   "metadata": {},
   "outputs": [
    {
     "name": "stdout",
     "output_type": "stream",
     "text": [
      "no missing value columns: {'Respondent', 'Hobby', 'OpenSource'}\n"
     ]
    }
   ],
   "source": [
    "no_nulls = set(df.columns[df.isnull().mean()==0]) \n",
    "print('no missing value columns: {}'.format(no_nulls))"
   ]
  },
  {
   "cell_type": "code",
   "execution_count": 6,
   "metadata": {},
   "outputs": [
    {
     "name": "stdout",
     "output_type": "stream",
     "text": [
      "Respondent: Randomized respondent ID number (not in order of survey response time)\n",
      "Hobby: Do you code as a hobby?\n",
      "OpenSource: Do you contribute to open source projects?\n"
     ]
    }
   ],
   "source": [
    "for no_null in no_nulls:\n",
    "    print('{}: {}'.format(no_null, get_description(no_null)))"
   ]
  },
  {
   "cell_type": "code",
   "execution_count": 7,
   "metadata": {},
   "outputs": [
    {
     "name": "stdout",
     "output_type": "stream",
     "text": [
      "most missing value columns: {'MilitaryUS', 'TimeAfterBootcamp'}\n"
     ]
    }
   ],
   "source": [
    "most_missing_cols = set(df.columns[df.isnull().mean() > 0.75])\n",
    "print('most missing value columns: {}'.format(most_missing_cols))"
   ]
  },
  {
   "cell_type": "code",
   "execution_count": 8,
   "metadata": {},
   "outputs": [
    {
     "name": "stdout",
     "output_type": "stream",
     "text": [
      "MilitaryUS: Are you currently serving or have you ever served in the U.S. Military?\n",
      "TimeAfterBootcamp: You indicated previously that you went through a developer training program or bootcamp. How long did it take you to get a full-time job as a developer after graduating?\n"
     ]
    }
   ],
   "source": [
    "for most_missing_col in most_missing_cols:\n",
    "    print('{}: {}'.format(most_missing_col, get_description(most_missing_col)))"
   ]
  },
  {
   "cell_type": "code",
   "execution_count": 9,
   "metadata": {},
   "outputs": [
    {
     "data": {
      "image/png": "[encoded data removed]",
      "text/plain": [
       "<matplotlib.figure.Figure at 0x7fd5dd84d2e8>"
      ]
     },
     "metadata": {},
     "output_type": "display_data"
    }
   ],
   "source": [
    "devtype_vals = df.DevType.value_counts()\n",
    "\n",
    "(devtype_vals[:20]/devtype_vals.sum()).plot(kind=\"barh\");\n",
    "plt.title(\"What kind of developer are you?\");"
   ]
  },
  {
   "cell_type": "code",
   "execution_count": 10,
   "metadata": {},
   "outputs": [
    {
     "data": {
      "image/png": "[encoded data removed]",
      "text/plain": [
       "<matplotlib.figure.Figure at 0x7fd5dc18c2e8>"
      ]
     },
     "metadata": {},
     "output_type": "display_data"
    }
   ],
   "source": [
    "ed_vals = df.FormalEducation.value_counts()\n",
    "\n",
    "(ed_vals/ed_vals.sum()).plot(kind=\"barh\");\n",
    "plt.title(\"Formal Education\");"
   ]
  },
  {
   "cell_type": "code",
   "execution_count": 11,
   "metadata": {},
   "outputs": [
    {
     "data": {
      "image/png": "[encoded data removed]",
      "text/plain": [
       "<matplotlib.figure.Figure at 0x7fd5dc1abc88>"
      ]
     },
     "metadata": {},
     "output_type": "display_data"
    }
   ],
   "source": [
    "country_vals = df.Country.value_counts()\n",
    "\n",
    "(country_vals[:20]/country_vals.sum()).plot(kind=\"barh\");\n",
    "plt.title(\"Country\");"
   ]
  },
  {
   "cell_type": "code",
   "execution_count": 12,
   "metadata": {},
   "outputs": [
    {
     "data": {
      "text/html": [
       "<div>\n",
       "<style scoped>\n",
       "    .dataframe tbody tr th:only-of-type {\n",
       "        vertical-align: middle;\n",
       "    }\n",
       "\n",
       "    .dataframe tbody tr th {\n",
       "        vertical-align: top;\n",
       "    }\n",
       "\n",
       "    .dataframe thead tr th {\n",
       "        text-align: left;\n",
       "    }\n",
       "\n",
       "    .dataframe thead tr:last-of-type th {\n",
       "        text-align: right;\n",
       "    }\n",
       "</style>\n",
       "<table border=\"1\" class=\"dataframe\">\n",
       "  <thead>\n",
       "    <tr>\n",
       "      <th></th>\n",
       "      <th>DevType</th>\n",
       "      <th>ConvertedSalary</th>\n",
       "    </tr>\n",
       "    <tr>\n",
       "      <th></th>\n",
       "      <th>count</th>\n",
       "      <th>mean</th>\n",
       "    </tr>\n",
       "    <tr>\n",
       "      <th>DevType</th>\n",
       "      <th></th>\n",
       "      <th></th>\n",
       "    </tr>\n",
       "  </thead>\n",
       "  <tbody>\n",
       "    <tr>\n",
       "      <th>Back-end developer;Front-end developer;Full-stack developer;Student</th>\n",
       "      <td>567</td>\n",
       "      <td>48943.343750</td>\n",
       "    </tr>\n",
       "    <tr>\n",
       "      <th>Back-end developer;DevOps specialist</th>\n",
       "      <td>593</td>\n",
       "      <td>120318.856777</td>\n",
       "    </tr>\n",
       "    <tr>\n",
       "      <th>Back-end developer;Designer;Front-end developer;Full-stack developer</th>\n",
       "      <td>597</td>\n",
       "      <td>80731.138710</td>\n",
       "    </tr>\n",
       "    <tr>\n",
       "      <th>Back-end developer;Student</th>\n",
       "      <td>624</td>\n",
       "      <td>36442.761905</td>\n",
       "    </tr>\n",
       "    <tr>\n",
       "      <th>Back-end developer;Desktop or enterprise applications developer;Full-stack developer</th>\n",
       "      <td>677</td>\n",
       "      <td>99204.815315</td>\n",
       "    </tr>\n",
       "    <tr>\n",
       "      <th>Embedded applications or devices developer</th>\n",
       "      <td>708</td>\n",
       "      <td>102176.391608</td>\n",
       "    </tr>\n",
       "    <tr>\n",
       "      <th>Back-end developer;Desktop or enterprise applications developer</th>\n",
       "      <td>779</td>\n",
       "      <td>90325.827515</td>\n",
       "    </tr>\n",
       "    <tr>\n",
       "      <th>Data scientist or machine learning specialist</th>\n",
       "      <td>869</td>\n",
       "      <td>109903.787575</td>\n",
       "    </tr>\n",
       "    <tr>\n",
       "      <th>Desktop or enterprise applications developer</th>\n",
       "      <td>896</td>\n",
       "      <td>101618.905263</td>\n",
       "    </tr>\n",
       "    <tr>\n",
       "      <th>Back-end developer;Desktop or enterprise applications developer;Front-end developer;Full-stack developer</th>\n",
       "      <td>981</td>\n",
       "      <td>110071.081037</td>\n",
       "    </tr>\n",
       "    <tr>\n",
       "      <th>Back-end developer;Front-end developer;Full-stack developer;Mobile developer</th>\n",
       "      <td>1008</td>\n",
       "      <td>90326.200000</td>\n",
       "    </tr>\n",
       "    <tr>\n",
       "      <th>Back-end developer;Front-end developer</th>\n",
       "      <td>1030</td>\n",
       "      <td>82200.728033</td>\n",
       "    </tr>\n",
       "    <tr>\n",
       "      <th>Front-end developer;Full-stack developer</th>\n",
       "      <td>1117</td>\n",
       "      <td>119504.779279</td>\n",
       "    </tr>\n",
       "    <tr>\n",
       "      <th>Front-end developer</th>\n",
       "      <td>2608</td>\n",
       "      <td>94479.997766</td>\n",
       "    </tr>\n",
       "    <tr>\n",
       "      <th>Back-end developer;Full-stack developer</th>\n",
       "      <td>3128</td>\n",
       "      <td>105427.288198</td>\n",
       "    </tr>\n",
       "    <tr>\n",
       "      <th>Student</th>\n",
       "      <td>3222</td>\n",
       "      <td>35763.419700</td>\n",
       "    </tr>\n",
       "    <tr>\n",
       "      <th>Mobile developer</th>\n",
       "      <td>3518</td>\n",
       "      <td>75982.710221</td>\n",
       "    </tr>\n",
       "    <tr>\n",
       "      <th>Back-end developer;Front-end developer;Full-stack developer</th>\n",
       "      <td>4460</td>\n",
       "      <td>96810.813756</td>\n",
       "    </tr>\n",
       "    <tr>\n",
       "      <th>Full-stack developer</th>\n",
       "      <td>6104</td>\n",
       "      <td>102939.060480</td>\n",
       "    </tr>\n",
       "    <tr>\n",
       "      <th>Back-end developer</th>\n",
       "      <td>6417</td>\n",
       "      <td>102208.940719</td>\n",
       "    </tr>\n",
       "  </tbody>\n",
       "</table>\n",
       "</div>"
      ],
      "text/plain": [
       "                                                   DevType ConvertedSalary\n",
       "                                                     count            mean\n",
       "DevType                                                                   \n",
       "Back-end developer;Front-end developer;Full-sta...     567    48943.343750\n",
       "Back-end developer;DevOps specialist                   593   120318.856777\n",
       "Back-end developer;Designer;Front-end developer...     597    80731.138710\n",
       "Back-end developer;Student                             624    36442.761905\n",
       "Back-end developer;Desktop or enterprise applic...     677    99204.815315\n",
       "Embedded applications or devices developer             708   102176.391608\n",
       "Back-end developer;Desktop or enterprise applic...     779    90325.827515\n",
       "Data scientist or machine learning specialist          869   109903.787575\n",
       "Desktop or enterprise applications developer           896   101618.905263\n",
       "Back-end developer;Desktop or enterprise applic...     981   110071.081037\n",
       "Back-end developer;Front-end developer;Full-sta...    1008    90326.200000\n",
       "Back-end developer;Front-end developer                1030    82200.728033\n",
       "Front-end developer;Full-stack developer              1117   119504.779279\n",
       "Front-end developer                                   2608    94479.997766\n",
       "Back-end developer;Full-stack developer               3128   105427.288198\n",
       "Student                                               3222    35763.419700\n",
       "Mobile developer                                      3518    75982.710221\n",
       "Back-end developer;Front-end developer;Full-sta...    4460    96810.813756\n",
       "Full-stack developer                                  6104   102939.060480\n",
       "Back-end developer                                    6417   102208.940719"
      ]
     },
     "execution_count": 12,
     "metadata": {},
     "output_type": "execute_result"
    }
   ],
   "source": [
    "df.groupby('DevType').agg({'DevType': ['count'], 'ConvertedSalary': ['mean']}).sort_values([('DevType', 'count')])[-20:]\n",
    "# devtypes = list(devtype_vals[:20].index)\n",
    "# df['DevType'].apply(lambda x: x in devtypes)"
   ]
  },
  {
   "cell_type": "markdown",
   "metadata": {},
   "source": [
    "### 3. Prepare Data"
   ]
  },
  {
   "cell_type": "code",
   "execution_count": 13,
   "metadata": {},
   "outputs": [
    {
     "data": {
      "text/plain": [
       "87"
      ]
     },
     "execution_count": 13,
     "metadata": {},
     "output_type": "execute_result"
    }
   ],
   "source": [
    "cat_df = df.select_dtypes(include=['object'])\n",
    "\n",
    "# Print how many categorical columns are in the dataframe - should be 147\n",
    "cat_df.shape[1]"
   ]
  },
  {
   "cell_type": "code",
   "execution_count": 14,
   "metadata": {},
   "outputs": [],
   "source": [
    "#Pull a list of the column names of the categorical variables\n",
    "cat_cols_lst = cat_df.columns\n",
    "\n",
    "def create_dummy_df(df, cat_cols, dummy_na):\n",
    "    '''\n",
    "    INPUT:\n",
    "    df - pandas dataframe with categorical variables you want to dummy\n",
    "    cat_cols - list of strings that are associated with names of the categorical columns\n",
    "    dummy_na - Bool holding whether you want to dummy NA vals of categorical columns or not\n",
    "    \n",
    "    OUTPUT:\n",
    "    df - a new dataframe that has the following characteristics:\n",
    "            1. contains all columns that were not specified as categorical\n",
    "            2. removes all the original columns in cat_cols\n",
    "            3. dummy columns for each of the categorical columns in cat_cols\n",
    "            4. if dummy_na is True - it also contains dummy columns for the NaN values\n",
    "            5. Use a prefix of the column name with an underscore (_) for separating \n",
    "    '''\n",
    "    for col in  cat_cols:\n",
    "        try:\n",
    "            if col in ['DevType', 'LanguageWorkedWith', 'DatabaseWorkedWith', 'PlatformWorkedWith', 'FrameworkWorkedWith', 'IDE', 'Methodology', 'VersionControl']:\n",
    "                dummy_s = df[col].str.split(\";\")\n",
    "                dummy_df = pd.get_dummies(dummy_s.apply(pd.Series).stack(), prefix=col, prefix_sep='_', dummy_na=dummy_na).sum(level=0)\n",
    "            else:\n",
    "                dummy_df = pd.get_dummies(df[col], prefix=col, prefix_sep='_', dummy_na=dummy_na)\n",
    "            \n",
    "            # for each cat add dummy var, drop original column\n",
    "            df = pd.concat([df.drop(col, axis=1), dummy_df], axis=1)\n",
    "        except:\n",
    "            continue\n",
    "\n",
    "    return df"
   ]
  },
  {
   "cell_type": "code",
   "execution_count": 15,
   "metadata": {},
   "outputs": [
    {
     "name": "stdout",
     "output_type": "stream",
     "text": [
      "(98855, 57446)\n"
     ]
    }
   ],
   "source": [
    "df_drop = df.drop(['Respondent', 'Salary'], axis=1)\n",
    "\n",
    "df_new = create_dummy_df(df_drop, cat_cols_lst, dummy_na=False) #Use your newly created function\n",
    "\n",
    "# Show shape to assure it has a shape of (5009, 11938)\n",
    "print(df_new.shape)"
   ]
  },
  {
   "cell_type": "code",
   "execution_count": 16,
   "metadata": {},
   "outputs": [
    {
     "data": {
      "text/html": [
       "<div>\n",
       "<style scoped>\n",
       "    .dataframe tbody tr th:only-of-type {\n",
       "        vertical-align: middle;\n",
       "    }\n",
       "\n",
       "    .dataframe tbody tr th {\n",
       "        vertical-align: top;\n",
       "    }\n",
       "\n",
       "    .dataframe thead th {\n",
       "        text-align: right;\n",
       "    }\n",
       "</style>\n",
       "<table border=\"1\" class=\"dataframe\">\n",
       "  <thead>\n",
       "    <tr style=\"text-align: right;\">\n",
       "      <th></th>\n",
       "      <th>AssessJob1</th>\n",
       "      <th>AssessJob2</th>\n",
       "      <th>AssessJob3</th>\n",
       "      <th>AssessJob4</th>\n",
       "      <th>AssessJob5</th>\n",
       "      <th>AssessJob6</th>\n",
       "      <th>AssessJob7</th>\n",
       "      <th>AssessJob8</th>\n",
       "      <th>AssessJob9</th>\n",
       "      <th>AssessJob10</th>\n",
       "      <th>...</th>\n",
       "      <th>MilitaryUS_No</th>\n",
       "      <th>MilitaryUS_Yes</th>\n",
       "      <th>SurveyTooLong_The survey was an appropriate length</th>\n",
       "      <th>SurveyTooLong_The survey was too long</th>\n",
       "      <th>SurveyTooLong_The survey was too short</th>\n",
       "      <th>SurveyEasy_Neither easy nor difficult</th>\n",
       "      <th>SurveyEasy_Somewhat difficult</th>\n",
       "      <th>SurveyEasy_Somewhat easy</th>\n",
       "      <th>SurveyEasy_Very difficult</th>\n",
       "      <th>SurveyEasy_Very easy</th>\n",
       "    </tr>\n",
       "  </thead>\n",
       "  <tbody>\n",
       "    <tr>\n",
       "      <th>0</th>\n",
       "      <td>10.0</td>\n",
       "      <td>7.0</td>\n",
       "      <td>8.0</td>\n",
       "      <td>1.0</td>\n",
       "      <td>2.0</td>\n",
       "      <td>5.0</td>\n",
       "      <td>3.0</td>\n",
       "      <td>4.0</td>\n",
       "      <td>9.0</td>\n",
       "      <td>6.0</td>\n",
       "      <td>...</td>\n",
       "      <td>0</td>\n",
       "      <td>0</td>\n",
       "      <td>1</td>\n",
       "      <td>0</td>\n",
       "      <td>0</td>\n",
       "      <td>0</td>\n",
       "      <td>0</td>\n",
       "      <td>0</td>\n",
       "      <td>0</td>\n",
       "      <td>1</td>\n",
       "    </tr>\n",
       "    <tr>\n",
       "      <th>1</th>\n",
       "      <td>1.0</td>\n",
       "      <td>7.0</td>\n",
       "      <td>10.0</td>\n",
       "      <td>8.0</td>\n",
       "      <td>2.0</td>\n",
       "      <td>5.0</td>\n",
       "      <td>4.0</td>\n",
       "      <td>3.0</td>\n",
       "      <td>6.0</td>\n",
       "      <td>9.0</td>\n",
       "      <td>...</td>\n",
       "      <td>0</td>\n",
       "      <td>0</td>\n",
       "      <td>1</td>\n",
       "      <td>0</td>\n",
       "      <td>0</td>\n",
       "      <td>0</td>\n",
       "      <td>0</td>\n",
       "      <td>1</td>\n",
       "      <td>0</td>\n",
       "      <td>0</td>\n",
       "    </tr>\n",
       "    <tr>\n",
       "      <th>2</th>\n",
       "      <td>NaN</td>\n",
       "      <td>NaN</td>\n",
       "      <td>NaN</td>\n",
       "      <td>NaN</td>\n",
       "      <td>NaN</td>\n",
       "      <td>NaN</td>\n",
       "      <td>NaN</td>\n",
       "      <td>NaN</td>\n",
       "      <td>NaN</td>\n",
       "      <td>NaN</td>\n",
       "      <td>...</td>\n",
       "      <td>0</td>\n",
       "      <td>0</td>\n",
       "      <td>0</td>\n",
       "      <td>0</td>\n",
       "      <td>0</td>\n",
       "      <td>0</td>\n",
       "      <td>0</td>\n",
       "      <td>0</td>\n",
       "      <td>0</td>\n",
       "      <td>0</td>\n",
       "    </tr>\n",
       "    <tr>\n",
       "      <th>3</th>\n",
       "      <td>NaN</td>\n",
       "      <td>NaN</td>\n",
       "      <td>NaN</td>\n",
       "      <td>NaN</td>\n",
       "      <td>NaN</td>\n",
       "      <td>NaN</td>\n",
       "      <td>NaN</td>\n",
       "      <td>NaN</td>\n",
       "      <td>NaN</td>\n",
       "      <td>NaN</td>\n",
       "      <td>...</td>\n",
       "      <td>1</td>\n",
       "      <td>0</td>\n",
       "      <td>1</td>\n",
       "      <td>0</td>\n",
       "      <td>0</td>\n",
       "      <td>0</td>\n",
       "      <td>0</td>\n",
       "      <td>1</td>\n",
       "      <td>0</td>\n",
       "      <td>0</td>\n",
       "    </tr>\n",
       "    <tr>\n",
       "      <th>4</th>\n",
       "      <td>8.0</td>\n",
       "      <td>5.0</td>\n",
       "      <td>7.0</td>\n",
       "      <td>1.0</td>\n",
       "      <td>2.0</td>\n",
       "      <td>6.0</td>\n",
       "      <td>4.0</td>\n",
       "      <td>3.0</td>\n",
       "      <td>10.0</td>\n",
       "      <td>9.0</td>\n",
       "      <td>...</td>\n",
       "      <td>0</td>\n",
       "      <td>0</td>\n",
       "      <td>1</td>\n",
       "      <td>0</td>\n",
       "      <td>0</td>\n",
       "      <td>0</td>\n",
       "      <td>0</td>\n",
       "      <td>1</td>\n",
       "      <td>0</td>\n",
       "      <td>0</td>\n",
       "    </tr>\n",
       "  </tbody>\n",
       "</table>\n",
       "<p>5 rows × 57446 columns</p>\n",
       "</div>"
      ],
      "text/plain": [
       "   AssessJob1  AssessJob2  AssessJob3  AssessJob4  AssessJob5  AssessJob6  \\\n",
       "0        10.0         7.0         8.0         1.0         2.0         5.0   \n",
       "1         1.0         7.0        10.0         8.0         2.0         5.0   \n",
       "2         NaN         NaN         NaN         NaN         NaN         NaN   \n",
       "3         NaN         NaN         NaN         NaN         NaN         NaN   \n",
       "4         8.0         5.0         7.0         1.0         2.0         6.0   \n",
       "\n",
       "   AssessJob7  AssessJob8  AssessJob9  AssessJob10          ...           \\\n",
       "0         3.0         4.0         9.0          6.0          ...            \n",
       "1         4.0         3.0         6.0          9.0          ...            \n",
       "2         NaN         NaN         NaN          NaN          ...            \n",
       "3         NaN         NaN         NaN          NaN          ...            \n",
       "4         4.0         3.0        10.0          9.0          ...            \n",
       "\n",
       "   MilitaryUS_No  MilitaryUS_Yes  \\\n",
       "0              0               0   \n",
       "1              0               0   \n",
       "2              0               0   \n",
       "3              1               0   \n",
       "4              0               0   \n",
       "\n",
       "   SurveyTooLong_The survey was an appropriate length  \\\n",
       "0                                                  1    \n",
       "1                                                  1    \n",
       "2                                                  0    \n",
       "3                                                  1    \n",
       "4                                                  1    \n",
       "\n",
       "   SurveyTooLong_The survey was too long  \\\n",
       "0                                      0   \n",
       "1                                      0   \n",
       "2                                      0   \n",
       "3                                      0   \n",
       "4                                      0   \n",
       "\n",
       "   SurveyTooLong_The survey was too short  \\\n",
       "0                                       0   \n",
       "1                                       0   \n",
       "2                                       0   \n",
       "3                                       0   \n",
       "4                                       0   \n",
       "\n",
       "   SurveyEasy_Neither easy nor difficult  SurveyEasy_Somewhat difficult  \\\n",
       "0                                      0                              0   \n",
       "1                                      0                              0   \n",
       "2                                      0                              0   \n",
       "3                                      0                              0   \n",
       "4                                      0                              0   \n",
       "\n",
       "   SurveyEasy_Somewhat easy  SurveyEasy_Very difficult  SurveyEasy_Very easy  \n",
       "0                         0                          0                     1  \n",
       "1                         1                          0                     0  \n",
       "2                         0                          0                     0  \n",
       "3                         1                          0                     0  \n",
       "4                         1                          0                     0  \n",
       "\n",
       "[5 rows x 57446 columns]"
      ]
     },
     "execution_count": 16,
     "metadata": {},
     "output_type": "execute_result"
    }
   ],
   "source": [
    "df_new.head()"
   ]
  },
  {
   "cell_type": "code",
   "execution_count": 17,
   "metadata": {},
   "outputs": [],
   "source": [
    "df_new.to_pickle('./data/developer_survey_2018/survey_results_public_cat.p')"
   ]
  },
  {
   "cell_type": "markdown",
   "metadata": {},
   "source": [
    "### 4. Model Data"
   ]
  },
  {
   "cell_type": "code",
   "execution_count": 18,
   "metadata": {},
   "outputs": [],
   "source": [
    "df_new = pd.read_pickle('./data/developer_survey_2018/survey_results_public_cat.p')"
   ]
  },
  {
   "cell_type": "code",
   "execution_count": 19,
   "metadata": {},
   "outputs": [
    {
     "name": "stdout",
     "output_type": "stream",
     "text": [
      "(47702, 57446)\n"
     ]
    }
   ],
   "source": [
    "df_new_dropna = df_new.dropna(subset=['ConvertedSalary'], axis=0)\n",
    "\n",
    "print(df_new_dropna.shape)"
   ]
  },
  {
   "cell_type": "code",
   "execution_count": 21,
   "metadata": {},
   "outputs": [
    {
     "data": {
      "image/png": "[encoded data removed]",
      "text/plain": [
       "<matplotlib.figure.Figure at 0x7fd52ce2a630>"
      ]
     },
     "metadata": {},
     "output_type": "display_data"
    }
   ],
   "source": [
    "devtype = [col for col in df_new if col.startswith('DevType_')]\n",
    "devtype_df = df_new[devtype]\n",
    "\n",
    "sns.heatmap(devtype_df.corr(), xticklabels=True, yticklabels=True);"
   ]
  },
  {
   "cell_type": "markdown",
   "metadata": {},
   "source": [
    "### 5. Results"
   ]
  },
  {
   "cell_type": "code",
   "execution_count": 48,
   "metadata": {},
   "outputs": [
    {
     "name": "stdout",
     "output_type": "stream",
     "text": [
      "DevType_Back-end developer\n",
      "0.0    94099.377136\n",
      "1.0    96609.911581\n",
      "Name: ConvertedSalary, dtype: float64\n",
      "\n",
      "DevType_C-suite executive (CEO, CTO, etc.)\n",
      "0.0     94855.589879\n",
      "1.0    117667.222840\n",
      "Name: ConvertedSalary, dtype: float64\n",
      "\n",
      "DevType_Data or business analyst\n",
      "0.0     94605.553088\n",
      "1.0    106542.401908\n",
      "Name: ConvertedSalary, dtype: float64\n",
      "\n",
      "DevType_Data scientist or machine learning specialist\n",
      "0.0     95135.713843\n",
      "1.0    101430.365400\n",
      "Name: ConvertedSalary, dtype: float64\n",
      "\n",
      "DevType_Database administrator\n",
      "0.0    95257.735173\n",
      "1.0    97767.508619\n",
      "Name: ConvertedSalary, dtype: float64\n",
      "\n",
      "DevType_Designer\n",
      "0.0    96393.497266\n",
      "1.0    89856.495811\n",
      "Name: ConvertedSalary, dtype: float64\n",
      "\n",
      "DevType_Desktop or enterprise applications developer\n",
      "0.0    95538.857799\n",
      "1.0    96060.245373\n",
      "Name: ConvertedSalary, dtype: float64\n",
      "\n",
      "DevType_DevOps specialist\n",
      "0.0     92775.968458\n",
      "1.0    115029.313948\n",
      "Name: ConvertedSalary, dtype: float64\n",
      "\n",
      "DevType_Educator or academic researcher\n",
      "0.0    96106.216428\n",
      "1.0    83182.155452\n",
      "Name: ConvertedSalary, dtype: float64\n",
      "\n",
      "DevType_Embedded applications or devices developer\n",
      "0.0    95685.331164\n",
      "1.0    94803.100790\n",
      "Name: ConvertedSalary, dtype: float64\n",
      "\n",
      "DevType_Engineering manager\n",
      "0.0     93339.307736\n",
      "1.0    129926.441641\n",
      "Name: ConvertedSalary, dtype: float64\n",
      "\n",
      "DevType_Front-end developer\n",
      "0.0    96025.157051\n",
      "1.0    95027.715128\n",
      "Name: ConvertedSalary, dtype: float64\n",
      "\n",
      "DevType_Full-stack developer\n",
      "0.0     90435.261055\n",
      "1.0    100156.391334\n",
      "Name: ConvertedSalary, dtype: float64\n",
      "\n",
      "DevType_Game or graphics developer\n",
      "0.0    96205.545062\n",
      "1.0    82366.682564\n",
      "Name: ConvertedSalary, dtype: float64\n",
      "\n",
      "DevType_Marketing or sales professional\n",
      "0.0     95523.186931\n",
      "1.0    106729.302521\n",
      "Name: ConvertedSalary, dtype: float64\n",
      "\n",
      "DevType_Mobile developer\n",
      "0.0    98424.920597\n",
      "1.0    84073.317762\n",
      "Name: ConvertedSalary, dtype: float64\n",
      "\n",
      "DevType_Product manager\n",
      "0.0     94801.731386\n",
      "1.0    112144.072432\n",
      "Name: ConvertedSalary, dtype: float64\n",
      "\n",
      "DevType_QA or test developer\n",
      "0.0    95615.869247\n",
      "1.0    95877.932279\n",
      "Name: ConvertedSalary, dtype: float64\n",
      "\n",
      "DevType_Student\n",
      "0.0    101399.174294\n",
      "1.0     43759.387458\n",
      "Name: ConvertedSalary, dtype: float64\n",
      "\n",
      "DevType_System administrator\n",
      "0.0     94875.737866\n",
      "1.0    101142.149695\n",
      "Name: ConvertedSalary, dtype: float64\n",
      "\n"
     ]
    }
   ],
   "source": [
    "for dt in devtype:\n",
    "    print(df_new_dropna.groupby(dt)['ConvertedSalary'].mean())\n",
    "    print()"
   ]
  },
  {
   "cell_type": "markdown",
   "metadata": {},
   "source": [
    "### 6. Deploy"
   ]
  },
  {
   "cell_type": "code",
   "execution_count": null,
   "metadata": {},
   "outputs": [],
   "source": []
  }
 ],
 "metadata": {
  "kernelspec": {
   "display_name": "Python 3",
   "language": "python",
   "name": "python3"
  },
  "language_info": {
   "codemirror_mode": {
    "name": "ipython",
    "version": 3
   },
   "file_extension": ".py",
   "mimetype": "text/x-python",
   "name": "python",
   "nbconvert_exporter": "python",
   "pygments_lexer": "ipython3",
   "version": "3.6.4"
  }
 },
 "nbformat": 4,
 "nbformat_minor": 2
}
